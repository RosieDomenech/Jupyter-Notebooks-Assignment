{
 "cells": [
  {
   "cell_type": "markdown",
   "metadata": {
    "collapsed": true
   },
   "source": [
    "# My Jupyter Notebook on IBM Watson Studio"
   ]
  },
  {
   "cell_type": "markdown",
   "metadata": {},
   "source": [
    "**Rosie** <br>\n",
    "My current occupation is Cybersecurity Aalyst\n"
   ]
  },
  {
   "cell_type": "markdown",
   "metadata": {},
   "source": [
    "_I am interested in data science because I'd like to find out the mysteries of medical science. These mysteries can range from why some people die of covid and others don't to why some smokers die from their habits while others do not_"
   ]
  },
  {
   "cell_type": "markdown",
   "metadata": {},
   "source": [
    "### My Code is to find the area of a circle"
   ]
  },
  {
   "cell_type": "code",
   "execution_count": null,
   "metadata": {},
   "outputs": [],
   "source": [
    "# Python program to find Area of a circle\n",
    "\n",
    "def findArea(r):\n",
    "\tPI = 3.142\n",
    "\treturn PI * (r*r);\n",
    "\n",
    "# Driver method\n",
    "print(\"Area is %.6f\" % findArea(5));\n"
   ]
  },
  {
   "cell_type": "markdown",
   "metadata": {},
   "source": [
    "<hr> Great things about Data Science! <hr>\n",
    "- It enables the greatest mysteries to be solved <br>\n",
    "- It enable everyone an easier life <br>\n",
    "- It discovers the wonders of the Universe! <br>\n",
    "\n",
    "Furthermore, it will:\n",
    "\n",
    "1. Allow time travel\n",
    "2. Allow teleportation <br>\n",
    "\n",
    "<center> <a href=\\\"https://wtop.com/wp-content/uploads/2021/09/delorean-2-edit.gif\">The Future is Yours!!</a> <font>"
   ]
  },
  {
   "cell_type": "code",
   "execution_count": null,
   "metadata": {},
   "outputs": [],
   "source": []
  }
 ],
 "metadata": {
  "kernelspec": {
   "display_name": "Python 3.9",
   "language": "python",
   "name": "python3"
  },
  "language_info": {
   "codemirror_mode": {
    "name": "ipython",
    "version": 3
   },
   "file_extension": ".py",
   "mimetype": "text/x-python",
   "name": "python",
   "nbconvert_exporter": "python",
   "pygments_lexer": "ipython3",
   "version": "3.9.12"
  }
 },
 "nbformat": 4,
 "nbformat_minor": 1
}
